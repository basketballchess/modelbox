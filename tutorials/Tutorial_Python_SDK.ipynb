{
 "cells": [
  {
   "cell_type": "markdown",
   "id": "6c4dae06",
   "metadata": {},
   "source": [
    "# Python SDK Tutorial\n",
    "This notebook explains how to use the Python SDK of Modelbox and explains the major concepts and how to use the API independent of any Deep Learning Framework. Please follow the PyTorch notebook to see how the SDK can be integrated with a PyTorch trainer. \n",
    "\n"
   ]
  },
  {
   "cell_type": "markdown",
   "id": "631504a4",
   "metadata": {},
   "source": [
    "## Initialize the ModelBox Client\n",
    "First we initialize the client by pointing it to the address of the ModelBox Server"
   ]
  },
  {
   "cell_type": "code",
   "execution_count": 1,
   "id": "9c02d955",
   "metadata": {},
   "outputs": [],
   "source": [
    "from modelbox.modelbox import ModelBoxClient, MLFramework\n",
    "import os\n",
    "client = ModelBoxClient(addr=\"localhost:8085\")"
   ]
  },
  {
   "cell_type": "markdown",
   "id": "a03eb91b",
   "metadata": {},
   "source": [
    "## Create an Experiment \n",
    "Once we have a client, we can start using it to create a new Experiment to train a model or track an existing pre-trained model. Let us first see how to create an experiment. We are going to create an experiment to train a Wav2Vec Model with Pytorch and store it in a namespace called *langtech*. If you are using an experiment management service like Weights and Biases or Nepute, you could associate the ID from that service with modelbox to create a lineage."
   ]
  },
  {
   "cell_type": "code",
<<<<<<< HEAD
   "execution_count": 12,
=======
   "execution_count": 5,
>>>>>>> 05d372d (Added some notebooks as tutorials)
   "id": "b5a51e68",
   "metadata": {},
   "outputs": [],
   "source": [
    "resp = client.create_experiment(\"wav2vec\", \"owner@pytorch.org\", \"langtech\", \"extern123\", MLFramework.PYTORCH)"
   ]
  },
  {
   "cell_type": "markdown",
   "id": "7d810f5f",
   "metadata": {},
   "source": [
    "The above code is going to create a new experiment and give us an ID."
   ]
  },
  {
   "cell_type": "code",
<<<<<<< HEAD
   "execution_count": 13,
=======
   "execution_count": 6,
>>>>>>> 05d372d (Added some notebooks as tutorials)
   "id": "819c680a",
   "metadata": {},
   "outputs": [
    {
     "data": {
      "text/plain": [
       "'e71a25a8d3d481463c281f083f5e2671ea2896bc'"
      ]
     },
<<<<<<< HEAD
     "execution_count": 13,
=======
     "execution_count": 6,
>>>>>>> 05d372d (Added some notebooks as tutorials)
     "metadata": {},
     "output_type": "execute_result"
    }
   ],
   "source": [
    "experiment_id = resp.experiment_id\n",
    "experiment_id"
   ]
  },
  {
   "cell_type": "markdown",
   "id": "774a768d",
   "metadata": {},
   "source": [
    "## Create Checkpoints\n",
    "Once we have an experiment we can create model checkpoints from the trainers. Lets assume the file stored in assets/mnist_checkpoint1.pt is a checkpoint created by the trainer. We will now associate this checkpoint with ModelBox.\n",
    "\n",
    "We could either track the path of the checkpoint or upload the blob and let ModelBox store it in the configured blob store. The benefit of letting modelbox store the blob is that the trainer doesn't need to have access to the blob store directly. However, in some cases it's more optimal to have the trainer store the blob directly, when the path to IO to the blob store from the trainer is much faster."
   ]
  },
  {
   "cell_type": "code",
<<<<<<< HEAD
   "execution_count": 14,
=======
   "execution_count": 8,
>>>>>>> 05d372d (Added some notebooks as tutorials)
   "id": "eb6323ac",
   "metadata": {},
   "outputs": [
    {
<<<<<<< HEAD
     "ename": "_InactiveRpcError",
     "evalue": "<_InactiveRpcError of RPC that terminated with:\n\tstatus = StatusCode.UNKNOWN\n\tdetails = \"unable to create checkpoint: duplicate experiment: a874de23731fb1cc49cfab33729a7d702eeb0ab9\"\n\tdebug_error_string = \"{\"created\":\"@1658977130.368013470\",\"description\":\"Error received from peer ipv4:127.0.0.1:8085\",\"file\":\"src/core/lib/surface/call.cc\",\"file_line\":952,\"grpc_message\":\"unable to create checkpoint: duplicate experiment: a874de23731fb1cc49cfab33729a7d702eeb0ab9\",\"grpc_status\":2}\"\n>",
     "output_type": "error",
     "traceback": [
      "\u001b[0;31m---------------------------------------------------------------------------\u001b[0m",
      "\u001b[0;31m_InactiveRpcError\u001b[0m                         Traceback (most recent call last)",
      "Input \u001b[0;32mIn [14]\u001b[0m, in \u001b[0;36m<cell line: 3>\u001b[0;34m()\u001b[0m\n\u001b[1;32m      1\u001b[0m checkpoint_path \u001b[38;5;241m=\u001b[39m os\u001b[38;5;241m.\u001b[39mpath\u001b[38;5;241m.\u001b[39mabspath(\u001b[38;5;124m'\u001b[39m\u001b[38;5;124mcheckpoint_0.pt\u001b[39m\u001b[38;5;124m'\u001b[39m)\n\u001b[1;32m      2\u001b[0m metrics \u001b[38;5;241m=\u001b[39m {\u001b[38;5;124m'\u001b[39m\u001b[38;5;124mval_accu\u001b[39m\u001b[38;5;124m'\u001b[39m: \u001b[38;5;241m98.7\u001b[39m, \u001b[38;5;124m'\u001b[39m\u001b[38;5;124mtrain_accu\u001b[39m\u001b[38;5;124m'\u001b[39m: \u001b[38;5;241m99.1\u001b[39m}\n\u001b[0;32m----> 3\u001b[0m checkpoint_id \u001b[38;5;241m=\u001b[39m \u001b[43mclient\u001b[49m\u001b[38;5;241;43m.\u001b[39;49m\u001b[43mcreate_checkpoint\u001b[49m\u001b[43m(\u001b[49m\u001b[43mexperiment\u001b[49m\u001b[38;5;241;43m=\u001b[39;49m\u001b[43mresp\u001b[49m\u001b[38;5;241;43m.\u001b[39;49m\u001b[43mexperiment_id\u001b[49m\u001b[43m,\u001b[49m\u001b[43m \u001b[49m\u001b[43mepoch\u001b[49m\u001b[38;5;241;43m=\u001b[39;49m\u001b[38;5;241;43m0\u001b[39;49m\u001b[43m,\u001b[49m\u001b[43m \u001b[49m\u001b[43mpath\u001b[49m\u001b[38;5;241;43m=\u001b[39;49m\u001b[43mcheckpoint_path\u001b[49m\u001b[43m,\u001b[49m\u001b[43m \u001b[49m\u001b[43mmetrics\u001b[49m\u001b[38;5;241;43m=\u001b[39;49m\u001b[43mmetrics\u001b[49m\u001b[43m)\u001b[49m\n\u001b[1;32m      4\u001b[0m checkpoint_id\n",
      "File \u001b[0;32m~/Src/miniconda3/lib/python3.9/site-packages/modelbox/modelbox.py:295\u001b[0m, in \u001b[0;36mModelBoxClient.create_checkpoint\u001b[0;34m(self, experiment, epoch, path, metrics)\u001b[0m\n\u001b[1;32m    282\u001b[0m \u001b[38;5;28;01mdef\u001b[39;00m \u001b[38;5;21mcreate_checkpoint\u001b[39m(\n\u001b[1;32m    283\u001b[0m     \u001b[38;5;28mself\u001b[39m, experiment: \u001b[38;5;28mstr\u001b[39m, epoch: uint, path: \u001b[38;5;28mstr\u001b[39m, metrics: Dict,\n\u001b[1;32m    284\u001b[0m ) \u001b[38;5;241m-\u001b[39m\u001b[38;5;241m>\u001b[39m \u001b[38;5;28mstr\u001b[39m:\n\u001b[1;32m    285\u001b[0m     req \u001b[38;5;241m=\u001b[39m service_pb2\u001b[38;5;241m.\u001b[39mCreateCheckpointRequest(\n\u001b[1;32m    286\u001b[0m         experiment_id\u001b[38;5;241m=\u001b[39mexperiment,\n\u001b[1;32m    287\u001b[0m         epoch\u001b[38;5;241m=\u001b[39mepoch,\n\u001b[0;32m   (...)\u001b[0m\n\u001b[1;32m    293\u001b[0m         metrics\u001b[38;5;241m=\u001b[39mmetrics,\n\u001b[1;32m    294\u001b[0m     )\n\u001b[0;32m--> 295\u001b[0m     response \u001b[38;5;241m=\u001b[39m \u001b[38;5;28;43mself\u001b[39;49m\u001b[38;5;241;43m.\u001b[39;49m\u001b[43m_client\u001b[49m\u001b[38;5;241;43m.\u001b[39;49m\u001b[43mCreateCheckpoint\u001b[49m\u001b[43m(\u001b[49m\u001b[43mreq\u001b[49m\u001b[43m)\u001b[49m\n\u001b[1;32m    296\u001b[0m     \u001b[38;5;28;01mreturn\u001b[39;00m response\u001b[38;5;241m.\u001b[39mcheckpoint_id\n",
      "File \u001b[0;32m~/Src/miniconda3/lib/python3.9/site-packages/grpc/_channel.py:946\u001b[0m, in \u001b[0;36m_UnaryUnaryMultiCallable.__call__\u001b[0;34m(self, request, timeout, metadata, credentials, wait_for_ready, compression)\u001b[0m\n\u001b[1;32m    937\u001b[0m \u001b[38;5;28;01mdef\u001b[39;00m \u001b[38;5;21m__call__\u001b[39m(\u001b[38;5;28mself\u001b[39m,\n\u001b[1;32m    938\u001b[0m              request,\n\u001b[1;32m    939\u001b[0m              timeout\u001b[38;5;241m=\u001b[39m\u001b[38;5;28;01mNone\u001b[39;00m,\n\u001b[0;32m   (...)\u001b[0m\n\u001b[1;32m    942\u001b[0m              wait_for_ready\u001b[38;5;241m=\u001b[39m\u001b[38;5;28;01mNone\u001b[39;00m,\n\u001b[1;32m    943\u001b[0m              compression\u001b[38;5;241m=\u001b[39m\u001b[38;5;28;01mNone\u001b[39;00m):\n\u001b[1;32m    944\u001b[0m     state, call, \u001b[38;5;241m=\u001b[39m \u001b[38;5;28mself\u001b[39m\u001b[38;5;241m.\u001b[39m_blocking(request, timeout, metadata, credentials,\n\u001b[1;32m    945\u001b[0m                                   wait_for_ready, compression)\n\u001b[0;32m--> 946\u001b[0m     \u001b[38;5;28;01mreturn\u001b[39;00m \u001b[43m_end_unary_response_blocking\u001b[49m\u001b[43m(\u001b[49m\u001b[43mstate\u001b[49m\u001b[43m,\u001b[49m\u001b[43m \u001b[49m\u001b[43mcall\u001b[49m\u001b[43m,\u001b[49m\u001b[43m \u001b[49m\u001b[38;5;28;43;01mFalse\u001b[39;49;00m\u001b[43m,\u001b[49m\u001b[43m \u001b[49m\u001b[38;5;28;43;01mNone\u001b[39;49;00m\u001b[43m)\u001b[49m\n",
      "File \u001b[0;32m~/Src/miniconda3/lib/python3.9/site-packages/grpc/_channel.py:849\u001b[0m, in \u001b[0;36m_end_unary_response_blocking\u001b[0;34m(state, call, with_call, deadline)\u001b[0m\n\u001b[1;32m    847\u001b[0m         \u001b[38;5;28;01mreturn\u001b[39;00m state\u001b[38;5;241m.\u001b[39mresponse\n\u001b[1;32m    848\u001b[0m \u001b[38;5;28;01melse\u001b[39;00m:\n\u001b[0;32m--> 849\u001b[0m     \u001b[38;5;28;01mraise\u001b[39;00m _InactiveRpcError(state)\n",
      "\u001b[0;31m_InactiveRpcError\u001b[0m: <_InactiveRpcError of RPC that terminated with:\n\tstatus = StatusCode.UNKNOWN\n\tdetails = \"unable to create checkpoint: duplicate experiment: a874de23731fb1cc49cfab33729a7d702eeb0ab9\"\n\tdebug_error_string = \"{\"created\":\"@1658977130.368013470\",\"description\":\"Error received from peer ipv4:127.0.0.1:8085\",\"file\":\"src/core/lib/surface/call.cc\",\"file_line\":952,\"grpc_message\":\"unable to create checkpoint: duplicate experiment: a874de23731fb1cc49cfab33729a7d702eeb0ab9\",\"grpc_status\":2}\"\n>"
     ]
=======
     "data": {
      "text/plain": [
       "'a874de23731fb1cc49cfab33729a7d702eeb0ab9'"
      ]
     },
     "execution_count": 8,
     "metadata": {},
     "output_type": "execute_result"
>>>>>>> 05d372d (Added some notebooks as tutorials)
    }
   ],
   "source": [
    "checkpoint_path = os.path.abspath('checkpoint_0.pt')\n",
    "metrics = {'val_accu': 98.7, 'train_accu': 99.1}\n",
    "checkpoint_id = client.create_checkpoint(experiment=resp.experiment_id, epoch=0, path=checkpoint_path, metrics=metrics)\n",
    "checkpoint_id\n"
   ]
  },
  {
   "cell_type": "markdown",
   "id": "eb7379d7",
   "metadata": {},
   "source": [
    "In this example we are creating a checkpoint and tracking the path of a checkpoint. The assumption here is that the operator of the training infrastructure wants to handle storage of the checkpoints, and ModelBox is used only for tracking metadata of the checkpoints.\n",
    "\n",
    "It is also possible to upload the checkpoint blob to ModelBox and access the blob later. This is useful when the trainer doesn't have access to the blob store directly. "
   ]
  },
  {
   "cell_type": "code",
   "execution_count": null,
   "id": "d4b41e12",
   "metadata": {},
   "outputs": [],
<<<<<<< HEAD
   "source": []
=======
   "source": [
    "client.upload_checkpoint(checkpoint_id = checkpoint_id, files=[])"
   ]
>>>>>>> 05d372d (Added some notebooks as tutorials)
  },
  {
   "cell_type": "code",
   "execution_count": null,
   "id": "b51573d4",
   "metadata": {},
   "outputs": [],
   "source": []
  }
 ],
 "metadata": {
  "kernelspec": {
   "display_name": "Python 3 (ipykernel)",
   "language": "python",
   "name": "python3"
  },
  "language_info": {
   "codemirror_mode": {
    "name": "ipython",
    "version": 3
   },
   "file_extension": ".py",
   "mimetype": "text/x-python",
   "name": "python",
   "nbconvert_exporter": "python",
   "pygments_lexer": "ipython3",
   "version": "3.9.12"
  }
 },
 "nbformat": 4,
 "nbformat_minor": 5
}
